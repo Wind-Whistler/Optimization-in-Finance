{
 "cells": [
  {
   "cell_type": "code",
   "execution_count": 1,
   "id": "9a2383f2-4fb1-4654-aec0-674316f477c8",
   "metadata": {},
   "outputs": [],
   "source": [
    "import pandas as pd\n",
    "import numpy as np"
   ]
  },
  {
   "cell_type": "code",
   "execution_count": 7,
   "id": "84eff0f0-574f-401d-85d5-a6fde60baf64",
   "metadata": {},
   "outputs": [
    {
     "name": "stdout",
     "output_type": "stream",
     "text": [
      "[['Bond 1' 10 10 10 10 10 110 109.0]\n",
      " ['Bond 2' 7 7 7 7 7 107 94.8]\n",
      " ['Bond 3' 8 8 8 8 8 108 99.5]\n",
      " ['Bond 4' 6 6 6 6 106 0 93.1]\n",
      " ['Bond 5' 7 7 7 7 107 0 97.2]\n",
      " ['Bond 6' 6 6 6 106 0 0 96.3]\n",
      " ['Bond 7' 5 5 5 105 0 0 92.9]\n",
      " ['Bond 8' 10 10 110 0 0 0 110.0]\n",
      " ['Bond 9' 8 8 108 0 0 0 104.0]\n",
      " ['Bond 10' 6 6 106 0 0 0 101.0]\n",
      " ['Bond 11' 10 110 0 0 0 0 107.0]\n",
      " ['Bond 12' 7 107 0 0 0 0 102.0]\n",
      " ['Bond 13' 100 0 0 0 0 0 95.2]]\n"
     ]
    }
   ],
   "source": [
    "data=pd.read_excel('Data.xlsx')\n",
    "data=np.array(data)\n",
    "print(data)"
   ]
  },
  {
   "cell_type": "code",
   "execution_count": 56,
   "id": "e7d23c3b-bed3-4854-add2-917b67df8528",
   "metadata": {},
   "outputs": [],
   "source": [
    "rate=[0.0404,0.0494,0.0636,0.0718,0.0789,0.0939]\n",
    "price=data[:,7]\n",
    "Loan=[500,200,800,200,800,1200]"
   ]
  },
  {
   "cell_type": "code",
   "execution_count": 57,
   "id": "4ed4e791-ceee-4aec-8e69-f5ac29961028",
   "metadata": {},
   "outputs": [
    {
     "name": "stdout",
     "output_type": "stream",
     "text": [
      "9626.617762475911\n",
      "2726.250799446142\n",
      "[462.09808101694, 419.50357004301185, 433.70174036765457, 382.9992538298105, 393.99626037674807, 329.7687050909623, 321.9418706895066, 284.4147416038637, 274.41722677459677, 264.4197119453299, 199.60888880374756, 191.64543158357307, 92.38454260265142]\n",
      "[105.620817826656, 91.4433377608174, 96.16916444943027, 93.2591816304529, 97.40138280966049, 96.52717146383608, 93.06903003018056, 110.11582715297423, 104.71511074290125, 99.31439433282827, 109.49905481734507, 103.89134755531389, 96.11687812379854]\n"
     ]
    }
   ],
   "source": [
    "DDLS=[0]*6\n",
    "for i in range(0,6):\n",
    "  DDLS[i]=(i+1)*Loan[i]/(1+rate[i])**(i+2)\n",
    "DDL=sum(DDLS)\n",
    "print(DDL)\n",
    "\n",
    "PVS=[0]*6\n",
    "for i in range(0,6):\n",
    "    PVS[i]=Loan[i]/(1+rate[i])**(i+1)\n",
    "PVL=sum(PVS)\n",
    "print(PVL)\n",
    "\n",
    "DDBS=[0]*13  #单个债券的总久期\n",
    "for j in range(0,13):\n",
    "  DDJS=[0]*6\n",
    "  for i in range(0,6):\n",
    "    DDJS[i]=(i+1)*data[j,i+1]/(1+rate[i])**(i+2)\n",
    "  DDBS[j]=sum(DDJS)\n",
    "print(DDBS)\n",
    "\n",
    "PVBS=[0]*13\n",
    "for j in range(0,13):\n",
    "  PVJS=[0]*6\n",
    "  for i in range(0,6):\n",
    "    PVJS[i]=data[j,i+1]/(1+rate[i])**(i+1)\n",
    "  PVBS[j]=sum(PVJS)\n",
    "print(PVBS)"
   ]
  },
  {
   "cell_type": "code",
   "execution_count": 58,
   "id": "8bda86b6-d326-4e54-b2da-19c2ee74a814",
   "metadata": {},
   "outputs": [
    {
     "name": "stdout",
     "output_type": "stream",
     "text": [
      "State: Optimal\n",
      "Optimization: 2707.0855573\n",
      "x0 = 0.0\n",
      "x1 = 0.0\n",
      "x10 = 6.2763557\n",
      "x11 = 0.0\n",
      "x12 = 0.0\n",
      "x2 = 0.0\n",
      "x3 = 21.863754\n",
      "x4 = 0.0\n",
      "x5 = 0.0\n",
      "x6 = 0.0\n",
      "x7 = 0.0\n",
      "x8 = 0.0\n",
      "x9 = 0.0\n"
     ]
    }
   ],
   "source": [
    "import pulp\n",
    "\n",
    "prob = pulp.LpProblem(\"Production_Planning\", pulp.LpMinimize)\n",
    "x = [pulp.LpVariable(f\"x{i}\", lowBound=0, cat='Continuous') for i in range(13)]\n",
    "prob += pulp.lpSum(price[i] * x[i] for i in range(13))\n",
    "\n",
    "\n",
    "prob += pulp.lpSum(PVBS[i] * x[i] for i in range(13))==PVL  #PV\n",
    "prob += pulp.lpSum(DDBS[i] * x[i] for i in range(13))==DDL  #DD\n",
    "\n",
    "\n",
    "prob.solve()\n",
    "\n",
    "print(f\"State: {pulp.LpStatus[prob.status]}\")\n",
    "print(f\"Optimization: {pulp.value(prob.objective)}\")\n",
    "\n",
    "# 输出决策变量的最优值\n",
    "for v in prob.variables():\n",
    "    print(f\"{v.name} = {v.varValue}\")"
   ]
  },
  {
   "cell_type": "code",
   "execution_count": null,
   "id": "551fb5db-67ee-4b26-9854-93165f9fe3e3",
   "metadata": {},
   "outputs": [],
   "source": []
  }
 ],
 "metadata": {
  "kernelspec": {
   "display_name": "Python 3 (ipykernel)",
   "language": "python",
   "name": "python3"
  },
  "language_info": {
   "codemirror_mode": {
    "name": "ipython",
    "version": 3
   },
   "file_extension": ".py",
   "mimetype": "text/x-python",
   "name": "python",
   "nbconvert_exporter": "python",
   "pygments_lexer": "ipython3",
   "version": "3.12.4"
  }
 },
 "nbformat": 4,
 "nbformat_minor": 5
}
